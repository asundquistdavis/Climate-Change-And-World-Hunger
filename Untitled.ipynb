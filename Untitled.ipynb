{
 "cells": [
  {
   "cell_type": "code",
   "execution_count": 2,
   "id": "865debd0",
   "metadata": {},
   "outputs": [],
   "source": [
    "from database.database import orm"
   ]
  },
  {
   "cell_type": "code",
   "execution_count": null,
   "id": "c49487c3",
   "metadata": {},
   "outputs": [],
   "source": [
    "engine, Amount, Year, Country = orm()"
   ]
  },
  {
   "cell_type": "code",
   "execution_count": null,
   "id": "c44835f0",
   "metadata": {},
   "outputs": [],
   "source": [
    "from sqlalchemy.orm import Session"
   ]
  },
  {
   "cell_type": "code",
   "execution_count": null,
   "id": "386bb1ac",
   "metadata": {},
   "outputs": [],
   "source": [
    "with Session(engine) as s:\n",
    "    r = s.query(Amount, Country).filter(Amount.country_code==Country.country_code).all()\n",
    "    print(r)"
   ]
  },
  {
   "cell_type": "code",
   "execution_count": null,
   "id": "e0a29959",
   "metadata": {},
   "outputs": [],
   "source": []
  }
 ],
 "metadata": {
  "kernelspec": {
   "display_name": "Python 3 (ipykernel)",
   "language": "python",
   "name": "python3"
  },
  "language_info": {
   "codemirror_mode": {
    "name": "ipython",
    "version": 3
   },
   "file_extension": ".py",
   "mimetype": "text/x-python",
   "name": "python",
   "nbconvert_exporter": "python",
   "pygments_lexer": "ipython3",
   "version": "3.8.13"
  }
 },
 "nbformat": 4,
 "nbformat_minor": 5
}
